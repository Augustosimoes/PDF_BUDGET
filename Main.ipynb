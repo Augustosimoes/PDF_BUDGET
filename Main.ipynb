{
 "cells": [
  {
   "cell_type": "markdown",
   "id": "68814e72",
   "metadata": {},
   "source": [
    "# Imersão em Python"
   ]
  },
  {
   "cell_type": "markdown",
   "id": "5d0a9d41",
   "metadata": {},
   "source": [
    "## Primeiro projeto para gerar PDF"
   ]
  },
  {
   "cell_type": "code",
   "execution_count": 38,
   "id": "9be13ffe",
   "metadata": {},
   "outputs": [
    {
     "name": "stdout",
     "output_type": "stream",
     "text": [
      "Primeiro comando python no Jupyter notebook para gerar o PDF com orçamento\n"
     ]
    }
   ],
   "source": [
    "print('Primeiro comando python no Jupyter notebook para gerar o PDF com orçamento')"
   ]
  },
  {
   "cell_type": "markdown",
   "id": "0c759949",
   "metadata": {},
   "source": [
    "## Definindo as variáveis a serem utilizadas no projeto"
   ]
  },
  {
   "cell_type": "code",
   "execution_count": 39,
   "id": "26efb0d9",
   "metadata": {},
   "outputs": [
    {
     "name": "stdout",
     "output_type": "stream",
     "text": [
      "Digite a descrição do projeto: Projeto Academia\n",
      "Digite as horas estimadas do projeto: 60\n",
      "Digite o valor da hora trabalhada: 100\n",
      "Digite o prazo de entrega do projeto: 3 meses\n"
     ]
    }
   ],
   "source": [
    "prj_desc = input('Digite a descrição do projeto: ')\n",
    "estimated_hour = input('Digite as horas estimadas do projeto: ')\n",
    "labor_hour = input('Digite o valor da hora trabalhada: ')\n",
    "deadline = input('Digite o prazo de entrega do projeto: ')\n",
    "sum_total = int(estimated_hour) * int(labor_hour)"
   ]
  },
  {
   "cell_type": "markdown",
   "id": "959526f1",
   "metadata": {},
   "source": [
    "## Gerando o PDF"
   ]
  },
  {
   "cell_type": "code",
   "execution_count": 26,
   "id": "d16e9023",
   "metadata": {},
   "outputs": [
    {
     "name": "stdout",
     "output_type": "stream",
     "text": [
      "Requirement already satisfied: fpdf in c:\\users\\ricar\\anaconda3\\lib\\site-packages (1.7.2)\n"
     ]
    }
   ],
   "source": [
    "!pip install fpdf"
   ]
  },
  {
   "cell_type": "code",
   "execution_count": 40,
   "id": "90cb66a6",
   "metadata": {},
   "outputs": [],
   "source": [
    "from fpdf import FPDF"
   ]
  },
  {
   "cell_type": "code",
   "execution_count": 66,
   "id": "3adc1d1e",
   "metadata": {},
   "outputs": [
    {
     "ename": "OSError",
     "evalue": "[Errno 22] Invalid argument: 'Imersão Python\\\\Aula1\\\\layout\\template.png'",
     "output_type": "error",
     "traceback": [
      "\u001b[1;31m---------------------------------------------------------------------------\u001b[0m",
      "\u001b[1;31mOSError\u001b[0m                                   Traceback (most recent call last)",
      "Cell \u001b[1;32mIn[66], line 7\u001b[0m\n\u001b[0;32m      3\u001b[0m pdf\u001b[38;5;241m.\u001b[39madd_page()\n\u001b[0;32m      5\u001b[0m pdf\u001b[38;5;241m.\u001b[39mset_font(\u001b[38;5;124m\"\u001b[39m\u001b[38;5;124mArial\u001b[39m\u001b[38;5;124m\"\u001b[39m)\n\u001b[1;32m----> 7\u001b[0m pdf\u001b[38;5;241m.\u001b[39mimage(\u001b[38;5;124m\"\u001b[39m\u001b[38;5;124mImersão Python\u001b[39m\u001b[38;5;124m\\\u001b[39m\u001b[38;5;124mAula1\u001b[39m\u001b[38;5;124m\\\u001b[39m\u001b[38;5;124mlayout\u001b[39m\u001b[38;5;130;01m\\t\u001b[39;00m\u001b[38;5;124memplate.png\u001b[39m\u001b[38;5;124m\"\u001b[39m, x\u001b[38;5;241m=\u001b[39m\u001b[38;5;241m0\u001b[39m, y\u001b[38;5;241m=\u001b[39m\u001b[38;5;241m0\u001b[39m)\n\u001b[0;32m      9\u001b[0m pdf\u001b[38;5;241m.\u001b[39mtext(\u001b[38;5;241m115\u001b[39m, \u001b[38;5;241m145\u001b[39m, prj_desc)\n\u001b[0;32m     10\u001b[0m pdf\u001b[38;5;241m.\u001b[39mtext(\u001b[38;5;241m115\u001b[39m, \u001b[38;5;241m160\u001b[39m, estimated_hour)\n",
      "File \u001b[1;32m~\\anaconda3\\Lib\\site-packages\\fpdf\\fpdf.py:150\u001b[0m, in \u001b[0;36mFPDF.check_page.<locals>.wrapper\u001b[1;34m(self, *args, **kwargs)\u001b[0m\n\u001b[0;32m    148\u001b[0m     \u001b[38;5;28mself\u001b[39m\u001b[38;5;241m.\u001b[39merror(\u001b[38;5;124m\"\u001b[39m\u001b[38;5;124mNo page open, you need to call add_page() first\u001b[39m\u001b[38;5;124m\"\u001b[39m)\n\u001b[0;32m    149\u001b[0m \u001b[38;5;28;01melse\u001b[39;00m:\n\u001b[1;32m--> 150\u001b[0m     \u001b[38;5;28;01mreturn\u001b[39;00m fn(\u001b[38;5;28mself\u001b[39m, \u001b[38;5;241m*\u001b[39margs, \u001b[38;5;241m*\u001b[39m\u001b[38;5;241m*\u001b[39mkwargs)\n",
      "File \u001b[1;32m~\\anaconda3\\Lib\\site-packages\\fpdf\\fpdf.py:971\u001b[0m, in \u001b[0;36mFPDF.image\u001b[1;34m(self, name, x, y, w, h, type, link)\u001b[0m\n\u001b[0;32m    969\u001b[0m     info\u001b[38;5;241m=\u001b[39m\u001b[38;5;28mself\u001b[39m\u001b[38;5;241m.\u001b[39m_parsejpg(name)\n\u001b[0;32m    970\u001b[0m \u001b[38;5;28;01melif\u001b[39;00m(\u001b[38;5;28mtype\u001b[39m\u001b[38;5;241m==\u001b[39m\u001b[38;5;124m'\u001b[39m\u001b[38;5;124mpng\u001b[39m\u001b[38;5;124m'\u001b[39m):\n\u001b[1;32m--> 971\u001b[0m     info\u001b[38;5;241m=\u001b[39m\u001b[38;5;28mself\u001b[39m\u001b[38;5;241m.\u001b[39m_parsepng(name)\n\u001b[0;32m    972\u001b[0m \u001b[38;5;28;01melse\u001b[39;00m:\n\u001b[0;32m    973\u001b[0m     \u001b[38;5;66;03m#Allow for additional formats\u001b[39;00m\n\u001b[0;32m    974\u001b[0m     \u001b[38;5;66;03m#maybe the image is not showing the correct extension,\u001b[39;00m\n\u001b[0;32m    975\u001b[0m     \u001b[38;5;66;03m#but the header is OK,\u001b[39;00m\n\u001b[0;32m    976\u001b[0m     succeed_parsing \u001b[38;5;241m=\u001b[39m \u001b[38;5;28;01mFalse\u001b[39;00m\n",
      "File \u001b[1;32m~\\anaconda3\\Lib\\site-packages\\fpdf\\fpdf.py:1772\u001b[0m, in \u001b[0;36mFPDF._parsepng\u001b[1;34m(self, name)\u001b[0m\n\u001b[0;32m   1770\u001b[0m        f \u001b[38;5;241m=\u001b[39m urlopen(name)\n\u001b[0;32m   1771\u001b[0m \u001b[38;5;28;01melse\u001b[39;00m:\n\u001b[1;32m-> 1772\u001b[0m     f\u001b[38;5;241m=\u001b[39m\u001b[38;5;28mopen\u001b[39m(name,\u001b[38;5;124m'\u001b[39m\u001b[38;5;124mrb\u001b[39m\u001b[38;5;124m'\u001b[39m)\n\u001b[0;32m   1773\u001b[0m \u001b[38;5;28;01mif\u001b[39;00m(\u001b[38;5;129;01mnot\u001b[39;00m f):\n\u001b[0;32m   1774\u001b[0m     \u001b[38;5;28mself\u001b[39m\u001b[38;5;241m.\u001b[39merror(\u001b[38;5;124m\"\u001b[39m\u001b[38;5;124mCan\u001b[39m\u001b[38;5;124m'\u001b[39m\u001b[38;5;124mt open image file: \u001b[39m\u001b[38;5;124m\"\u001b[39m\u001b[38;5;241m+\u001b[39mname)\n",
      "\u001b[1;31mOSError\u001b[0m: [Errno 22] Invalid argument: 'Imersão Python\\\\Aula1\\\\layout\\template.png'"
     ]
    }
   ],
   "source": [
    "pdf = FPDF()\n",
    "\n",
    "pdf.add_page()\n",
    "\n",
    "pdf.set_font(\"Arial\")\n",
    "\n",
    "pdf.image(\"Imersão Python\\Aula1\\layout\\template.png\", x=0, y=0)\n",
    "\n",
    "pdf.text(115, 145, prj_desc)\n",
    "pdf.text(115, 160, estimated_hour)\n",
    "pdf.text(115, 175, labor_hour)\n",
    "pdf.text(115, 190, deadline)\n",
    "pdf.text(115, 205, str(sum_total))\n",
    "\n",
    "pdf.output(\"Imersão Python\\Aula1\\orcamento.pdf\")\n",
    "\n",
    "print('Orçamento gerado com sucesso')"
   ]
  },
  {
   "cell_type": "code",
   "execution_count": 29,
   "id": "d5e34150",
   "metadata": {},
   "outputs": [],
   "source": []
  },
  {
   "cell_type": "code",
   "execution_count": 30,
   "id": "08c7eb13",
   "metadata": {},
   "outputs": [],
   "source": []
  },
  {
   "cell_type": "code",
   "execution_count": 32,
   "id": "7c401937",
   "metadata": {},
   "outputs": [
    {
     "data": {
      "text/plain": [
       "''"
      ]
     },
     "execution_count": 32,
     "metadata": {},
     "output_type": "execute_result"
    }
   ],
   "source": []
  },
  {
   "cell_type": "code",
   "execution_count": null,
   "id": "9cb29d1d",
   "metadata": {},
   "outputs": [],
   "source": []
  },
  {
   "cell_type": "code",
   "execution_count": null,
   "id": "afc506ad",
   "metadata": {},
   "outputs": [],
   "source": []
  },
  {
   "cell_type": "code",
   "execution_count": null,
   "id": "1052f3b6",
   "metadata": {},
   "outputs": [],
   "source": []
  }
 ],
 "metadata": {
  "kernelspec": {
   "display_name": "Python 3 (ipykernel)",
   "language": "python",
   "name": "python3"
  },
  "language_info": {
   "codemirror_mode": {
    "name": "ipython",
    "version": 3
   },
   "file_extension": ".py",
   "mimetype": "text/x-python",
   "name": "python",
   "nbconvert_exporter": "python",
   "pygments_lexer": "ipython3",
   "version": "3.11.5"
  }
 },
 "nbformat": 4,
 "nbformat_minor": 5
}
