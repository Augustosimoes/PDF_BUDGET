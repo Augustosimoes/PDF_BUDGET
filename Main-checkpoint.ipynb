{
 "cells": [
  {
   "cell_type": "markdown",
   "id": "661b6943",
   "metadata": {},
   "source": [
    "# Imersão em Python"
   ]
  },
  {
   "cell_type": "markdown",
   "id": "f33870a5",
   "metadata": {},
   "source": [
    "## Primeiro projeto para gerar PDF"
   ]
  },
  {
   "cell_type": "code",
   "execution_count": 11,
   "id": "1176218b",
   "metadata": {},
   "outputs": [
    {
     "name": "stdout",
     "output_type": "stream",
     "text": [
      "Primeiro comando python no Jupyter notebook para gerar o PDF com orçamento\n"
     ]
    }
   ],
   "source": [
    "print('Primeiro comando python no Jupyter notebook para gerar o PDF com orçamento')"
   ]
  },
  {
   "cell_type": "markdown",
   "id": "7aca4e94",
   "metadata": {},
   "source": [
    "## Definindo as variáveis a serem utilizadas no projeto"
   ]
  },
  {
   "cell_type": "code",
   "execution_count": 7,
   "id": "42b4e8bd",
   "metadata": {},
   "outputs": [
    {
     "name": "stdout",
     "output_type": "stream",
     "text": [
      "Digite a descrição do projeto: Locação de Salas\n",
      "Digite as horas estimadas do projeto: 60\n",
      "Digite o valor da hora trabalhada: 100\n",
      "Digite o prazo de entrega do projeto: 3 meses\n"
     ]
    }
   ],
   "source": [
    "prj_desc = input('Digite a descrição do projeto: ')\n",
    "estimated_hour = input('Digite as horas estimadas do projeto: ')\n",
    "labor_hour = input('Digite o valor da hora trabalhada: ')\n",
    "deadline = input('Digite o prazo de entrega do projeto: ')\n",
    "sum_total = int(estimated_hour) * int(labor_hour)"
   ]
  },
  {
   "cell_type": "markdown",
   "id": "2d78ecee",
   "metadata": {},
   "source": [
    "## Gerando o PDF"
   ]
  },
  {
   "cell_type": "code",
   "execution_count": 26,
   "id": "94436e6d",
   "metadata": {},
   "outputs": [
    {
     "name": "stdout",
     "output_type": "stream",
     "text": [
      "Requirement already satisfied: fpdf in c:\\users\\ricar\\anaconda3\\lib\\site-packages (1.7.2)\n"
     ]
    }
   ],
   "source": [
    "!pip install fpdf"
   ]
  },
  {
   "cell_type": "code",
   "execution_count": 27,
   "id": "3a22a2a4",
   "metadata": {},
   "outputs": [],
   "source": [
    "from fpdf import FPDF"
   ]
  },
  {
   "cell_type": "code",
   "execution_count": 28,
   "id": "88ebe1d4",
   "metadata": {},
   "outputs": [],
   "source": [
    "pdf = FPDF()"
   ]
  },
  {
   "cell_type": "code",
   "execution_count": 29,
   "id": "abfdf4b8",
   "metadata": {},
   "outputs": [],
   "source": [
    "pdf.add_page()"
   ]
  },
  {
   "cell_type": "code",
   "execution_count": 30,
   "id": "6fd34a07",
   "metadata": {},
   "outputs": [],
   "source": [
    "pdf.set_font(\"Arial\")"
   ]
  },
  {
   "cell_type": "code",
   "execution_count": 32,
   "id": "524029ab",
   "metadata": {},
   "outputs": [
    {
     "data": {
      "text/plain": [
       "''"
      ]
     },
     "execution_count": 32,
     "metadata": {},
     "output_type": "execute_result"
    }
   ],
   "source": [
    "pdf.output(\"orçamento.pdf\")"
   ]
  },
  {
   "cell_type": "code",
   "execution_count": null,
   "id": "b62ef264",
   "metadata": {},
   "outputs": [],
   "source": []
  },
  {
   "cell_type": "code",
   "execution_count": null,
   "id": "a11ded4a",
   "metadata": {},
   "outputs": [],
   "source": []
  },
  {
   "cell_type": "code",
   "execution_count": null,
   "id": "70c6676e",
   "metadata": {},
   "outputs": [],
   "source": []
  }
 ],
 "metadata": {
  "kernelspec": {
   "display_name": "Python 3 (ipykernel)",
   "language": "python",
   "name": "python3"
  },
  "language_info": {
   "codemirror_mode": {
    "name": "ipython",
    "version": 3
   },
   "file_extension": ".py",
   "mimetype": "text/x-python",
   "name": "python",
   "nbconvert_exporter": "python",
   "pygments_lexer": "ipython3",
   "version": "3.11.5"
  }
 },
 "nbformat": 4,
 "nbformat_minor": 5
}
